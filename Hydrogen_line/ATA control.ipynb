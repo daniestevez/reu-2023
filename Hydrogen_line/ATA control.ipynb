{
 "cells": [
  {
   "cell_type": "markdown",
   "metadata": {},
   "source": [
    "# ATA control\n",
    "\n",
    "`ATATools.ata_control` is a Python library that can be used to control several aspects of the Allen Telescope Array, such as the pointing of the antennas, the focusing of the feeds, the LO frequency of the RFCB, and the IF switch that selects the antennas that are connected to the GNU Radio backend USRPs.\n",
    "\n",
    "`ata_control` is very useful for interactive, real time control of the array, as well as for writing Python scripts that can perform complex observations.\n",
    "\n",
    "`ata_control` is included in the [ATA-Utils](https://github.com/SETIatHCRO/ATA-Utils) repository.\n",
    "\n",
    "Here we give some examples of its usage. This notebook can be used as a cheat-sheet for interactive control."
   ]
  },
  {
   "cell_type": "markdown",
   "metadata": {},
   "source": [
    "## GNU Radio backend at the ATA\n",
    "\n",
    "This diagram describes the structure of the GNU Radio backend at the Allen Telescope Array.\n",
    "\n",
    "![gnuradio backend diagram](gnuradio-backend-diagram.png \"GNU Radio backend diagram\")"
   ]
  },
  {
   "cell_type": "code",
   "execution_count": null,
   "metadata": {},
   "outputs": [],
   "source": [
    "from ATATools import ata_control as ac\n",
    "# Angle from astropy is useful if we want to specify pointing\n",
    "# coordinates in hours-minutes-seconds and degrees-minutes-seconds\n",
    "from astropy.coordinates import Angle\n",
    "import urllib.request  # Used to download data"
   ]
  },
  {
   "cell_type": "markdown",
   "metadata": {},
   "source": [
    "## Checking the array status\n",
    "\n",
    "Before we begin, it is useful to check what the array is doing to have an idea of what are the antennas in use, etc. We can also use this later on to check that our antennas are pointing correctly."
   ]
  },
  {
   "cell_type": "code",
   "execution_count": null,
   "metadata": {
    "scrolled": false
   },
   "outputs": [],
   "source": [
    "print(ac.get_ascii_status())"
   ]
  },
  {
   "cell_type": "markdown",
   "metadata": {},
   "source": [
    "## Reserving the antennas\n",
    "\n",
    "It is important to reserve the antennas we will use to prevent clashes with other users of the system. The function below will fail if some of the antennas are already reserved, stopping automated scripts before the step on someone elses's observation."
   ]
  },
  {
   "cell_type": "code",
   "execution_count": null,
   "metadata": {
    "scrolled": true
   },
   "outputs": [],
   "source": [
    "antennas = ['1a', '1f', '5c']  # List of antennas that we want to use (the USRPs can use 2 antennas at a time only)\n",
    "ac.move_ant_group(antennas, 'none', 'atagr')  # Reserve the antennas"
   ]
  },
  {
   "cell_type": "code",
   "execution_count": null,
   "metadata": {},
   "outputs": [],
   "source": [
    "ac.list_antenna_group('atagr')  # List antennas reserved by 'atagr'"
   ]
  },
  {
   "cell_type": "code",
   "execution_count": null,
   "metadata": {},
   "outputs": [],
   "source": [
    "ac.list_antenna_group('none')  # List free antennas antennas"
   ]
  },
  {
   "cell_type": "markdown",
   "metadata": {},
   "source": [
    "## Selecting the antennas in the IF switch\n",
    "\n",
    "The IF switch is used to select what antennas are routed to each of the two USRPs. Each USRP can only receive data from one antenna at a time. \n",
    "\n",
    "The list of antennas that can be connected to each USRP can be seen [here](https://github.com/SETIatHCRO/ATA-Utils/blob/master/RFSwitchUtils/antassign.h#L21).\n",
    "\n",
    "The IF switch has variable attenuators. We usually set these to 20 dB, but changing this value can be useful to adapt the signal levels in atypical situations."
   ]
  },
  {
   "cell_type": "code",
   "execution_count": null,
   "metadata": {},
   "outputs": [],
   "source": [
    "att = 20  # Attenuation in dB\n",
    "ac.rf_switch_thread(antennas)\n",
    "ac.set_atten_thread([[f'{ant}x', f'{ant}y'] for ant in antennas],\n",
    "                    [[att, att] for ant in antennas])"
   ]
  },
  {
   "cell_type": "markdown",
   "metadata": {},
   "source": [
    "## Setting the RFCB LO frequency and focusing feeds\n",
    "\n",
    "The RFCB is used to tune to a particular frequency from the very wide range (0.5 - 14 GHz) that the ATA feeds offer.\n",
    "\n",
    "There are four independent LOs in the RFCB, called a, b, c and d. For the GNU Radio backend we typically use LO d (this comes determined by what outputs of the RFCB are connected to the IF switch that goes to the USRPs).\n",
    "\n",
    "The `set_freq()` function will set the RFCB LO frequency and also focus the feeds appropriately (that's the reason why it needs the list of antennas)."
   ]
  },
  {
   "cell_type": "code",
   "execution_count": null,
   "metadata": {},
   "outputs": [],
   "source": [
    "freq = 1420.405  # Frequency to tune to in MHz\n",
    "lo = 'd'  # RFCB LO to set\n",
    "ac.set_freq(freq, antennas, lo)"
   ]
  },
  {
   "cell_type": "markdown",
   "metadata": {},
   "source": [
    "## Running autotune\n",
    "\n",
    "Autotune is used to adjust the PAM attenuators in the feeds for optimal signal levels."
   ]
  },
  {
   "cell_type": "code",
   "execution_count": null,
   "metadata": {},
   "outputs": [],
   "source": [
    "ac.autotune(antennas)"
   ]
  },
  {
   "cell_type": "markdown",
   "metadata": {},
   "source": [
    "## Pointing the antennas\n",
    "\n",
    "There are different ways of specifying the direction in which the antennas should point. The cells below give the most usual."
   ]
  },
  {
   "cell_type": "code",
   "execution_count": null,
   "metadata": {},
   "outputs": [],
   "source": [
    "# Fixed azimuth and elevation\n",
    "ac.track_source(antennas, azel=[270.0, 35.0])"
   ]
  },
  {
   "cell_type": "code",
   "execution_count": null,
   "metadata": {},
   "outputs": [],
   "source": [
    "# Fixed right ascension and declination\n",
    "ac.track_source(antennas, radec=[Angle('6h48m56.6s').hour, Angle('2d23m18.4s').deg])"
   ]
  },
  {
   "cell_type": "code",
   "execution_count": null,
   "metadata": {},
   "outputs": [],
   "source": [
    "# Catalogue source\n",
    "ac.track_source(antennas, source='3c84')"
   ]
  },
  {
   "cell_type": "code",
   "execution_count": null,
   "metadata": {},
   "outputs": [],
   "source": [
    "# Satellite tracking, using a NORAD ID and TLE from Celestrak\n",
    "norad_id = 43057  # satellite ID\n",
    "\n",
    "# Download the data from Celestrak in a file in /tmp\n",
    "url = f'https://celestrak.com/satcat/tle.php?CATNR={norad_id}'\n",
    "tle_file = f'/tmp/{norad_id}.tle'\n",
    "with urllib.request.urlopen(url) as f:\n",
    "    tle = b'\\n'.join(f.read().split(b'\\n')[1:])\n",
    "    with open(tle_file, 'wb') as g:\n",
    "        g.write(tle)\n",
    "\n",
    "# Use that file for tracking\n",
    "ac.make_and_track_tle(tle_file, antennas)"
   ]
  },
  {
   "cell_type": "markdown",
   "metadata": {},
   "source": [
    "## Parking the antennas\n",
    "\n",
    "At the end of an observation, it is usual to park the antennas at a fixed azimuth and elevation: either (0, 18) or (180, 18)."
   ]
  },
  {
   "cell_type": "code",
   "execution_count": null,
   "metadata": {},
   "outputs": [],
   "source": [
    "ac.park_antennas(antennas)"
   ]
  },
  {
   "cell_type": "markdown",
   "metadata": {},
   "source": [
    "## Freeing the antennas\n",
    "\n",
    "When we finish our observations, we should move the antennas back to the 'none' group to indicate that they are free."
   ]
  },
  {
   "cell_type": "code",
   "execution_count": null,
   "metadata": {},
   "outputs": [],
   "source": [
    "ac.move_ant_group(antennas, 'atagr', 'none')  # Free the antennas"
   ]
  }
 ],
 "metadata": {
  "kernelspec": {
   "display_name": "Python 3",
   "language": "python",
   "name": "python3"
  },
  "language_info": {
   "codemirror_mode": {
    "name": "ipython",
    "version": 3
   },
   "file_extension": ".py",
   "mimetype": "text/x-python",
   "name": "python",
   "nbconvert_exporter": "python",
   "pygments_lexer": "ipython3",
   "version": "3.8.10"
  }
 },
 "nbformat": 4,
 "nbformat_minor": 4
}
